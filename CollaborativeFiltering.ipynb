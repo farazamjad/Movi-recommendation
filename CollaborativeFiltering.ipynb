{
 "cells": [
  {
   "cell_type": "markdown",
   "id": "3b358f4d",
   "metadata": {},
   "source": [
    "# Collaborative Filtering Recommendation System"
   ]
  },
  {
   "cell_type": "markdown",
   "id": "55eedac4",
   "metadata": {},
   "source": [
    "## Task 1: Import Modules"
   ]
  },
  {
   "cell_type": "code",
   "execution_count": 10,
   "id": "54298d2c",
   "metadata": {},
   "outputs": [],
   "source": [
    "import pandas as pd\n",
    "import numpy as np\n",
    "from sklearn.metrics.pairwise import cosine_similarity\n",
    "import sklearn"
   ]
  },
  {
   "cell_type": "markdown",
   "id": "5c8e83a3",
   "metadata": {},
   "source": [
    "## Task 2: Import the Dataset"
   ]
  },
  {
   "cell_type": "code",
   "execution_count": 11,
   "id": "0dd3cbfc",
   "metadata": {},
   "outputs": [],
   "source": [
    "movie=pd.read_csv(\"Movie_data.csv\")\n",
    "movie_title=pd.read_csv(\"Movie_Id_Titles.csv\")\n"
   ]
  },
  {
   "cell_type": "markdown",
   "id": "4ecd7f73",
   "metadata": {},
   "source": [
    "## Task 3: Explore the Dataset"
   ]
  },
  {
   "cell_type": "code",
   "execution_count": 7,
   "id": "8dfd4237",
   "metadata": {},
   "outputs": [
    {
     "name": "stdout",
     "output_type": "stream",
     "text": [
      "movie data\n",
      "     0  Shawn Wilson   50  5  881250949\n",
      "0    0  Shawn Wilson  172  5  881250949\n",
      "1    0  Shawn Wilson  133  1  881250949\n",
      "2  196  Bessie White  242  3  881250949\n",
      "3  196  Bessie White  393  4  881251863\n",
      "4  196  Bessie White  381  4  881251728\n",
      "movie title id\n",
      "   item_id              title\n",
      "0        1   Toy Story (1995)\n",
      "1        2   GoldenEye (1995)\n",
      "2        3  Four Rooms (1995)\n",
      "3        4  Get Shorty (1995)\n",
      "4        5     Copycat (1995)\n"
     ]
    }
   ],
   "source": [
    "print('movie data')\n",
    "print(movie.head())\n",
    "print('movie title id')\n",
    "print(movie_title.head())\n"
   ]
  },
  {
   "cell_type": "code",
   "execution_count": 19,
   "id": "84e974cb",
   "metadata": {},
   "outputs": [
    {
     "data": {
      "text/html": [
       "<div>\n",
       "<style scoped>\n",
       "    .dataframe tbody tr th:only-of-type {\n",
       "        vertical-align: middle;\n",
       "    }\n",
       "\n",
       "    .dataframe tbody tr th {\n",
       "        vertical-align: top;\n",
       "    }\n",
       "\n",
       "    .dataframe thead th {\n",
       "        text-align: right;\n",
       "    }\n",
       "</style>\n",
       "<table border=\"1\" class=\"dataframe\">\n",
       "  <thead>\n",
       "    <tr style=\"text-align: right;\">\n",
       "      <th></th>\n",
       "      <th>user_id</th>\n",
       "      <th>user_name</th>\n",
       "      <th>Movie_ID</th>\n",
       "      <th>rating</th>\n",
       "      <th>timestamp</th>\n",
       "    </tr>\n",
       "  </thead>\n",
       "  <tbody>\n",
       "    <tr>\n",
       "      <th>0</th>\n",
       "      <td>0</td>\n",
       "      <td>Shawn Wilson</td>\n",
       "      <td>50</td>\n",
       "      <td>5</td>\n",
       "      <td>881250949</td>\n",
       "    </tr>\n",
       "    <tr>\n",
       "      <th>1</th>\n",
       "      <td>0</td>\n",
       "      <td>Shawn Wilson</td>\n",
       "      <td>172</td>\n",
       "      <td>5</td>\n",
       "      <td>881250949</td>\n",
       "    </tr>\n",
       "    <tr>\n",
       "      <th>2</th>\n",
       "      <td>0</td>\n",
       "      <td>Shawn Wilson</td>\n",
       "      <td>133</td>\n",
       "      <td>1</td>\n",
       "      <td>881250949</td>\n",
       "    </tr>\n",
       "    <tr>\n",
       "      <th>3</th>\n",
       "      <td>196</td>\n",
       "      <td>Bessie White</td>\n",
       "      <td>242</td>\n",
       "      <td>3</td>\n",
       "      <td>881250949</td>\n",
       "    </tr>\n",
       "    <tr>\n",
       "      <th>4</th>\n",
       "      <td>196</td>\n",
       "      <td>Bessie White</td>\n",
       "      <td>393</td>\n",
       "      <td>4</td>\n",
       "      <td>881251863</td>\n",
       "    </tr>\n",
       "    <tr>\n",
       "      <th>...</th>\n",
       "      <td>...</td>\n",
       "      <td>...</td>\n",
       "      <td>...</td>\n",
       "      <td>...</td>\n",
       "      <td>...</td>\n",
       "    </tr>\n",
       "    <tr>\n",
       "      <th>99998</th>\n",
       "      <td>941</td>\n",
       "      <td>Thomas Warren</td>\n",
       "      <td>919</td>\n",
       "      <td>5</td>\n",
       "      <td>875048887</td>\n",
       "    </tr>\n",
       "    <tr>\n",
       "      <th>99999</th>\n",
       "      <td>941</td>\n",
       "      <td>Thomas Warren</td>\n",
       "      <td>273</td>\n",
       "      <td>3</td>\n",
       "      <td>875049038</td>\n",
       "    </tr>\n",
       "    <tr>\n",
       "      <th>100000</th>\n",
       "      <td>941</td>\n",
       "      <td>Thomas Warren</td>\n",
       "      <td>1</td>\n",
       "      <td>5</td>\n",
       "      <td>875049144</td>\n",
       "    </tr>\n",
       "    <tr>\n",
       "      <th>100001</th>\n",
       "      <td>941</td>\n",
       "      <td>Thomas Warren</td>\n",
       "      <td>294</td>\n",
       "      <td>4</td>\n",
       "      <td>875048532</td>\n",
       "    </tr>\n",
       "    <tr>\n",
       "      <th>100002</th>\n",
       "      <td>941</td>\n",
       "      <td>Thomas Warren</td>\n",
       "      <td>1007</td>\n",
       "      <td>4</td>\n",
       "      <td>875049077</td>\n",
       "    </tr>\n",
       "  </tbody>\n",
       "</table>\n",
       "<p>100003 rows × 5 columns</p>\n",
       "</div>"
      ],
      "text/plain": [
       "        user_id      user_name  Movie_ID  rating  timestamp\n",
       "0             0   Shawn Wilson        50       5  881250949\n",
       "1             0   Shawn Wilson       172       5  881250949\n",
       "2             0   Shawn Wilson       133       1  881250949\n",
       "3           196   Bessie White       242       3  881250949\n",
       "4           196   Bessie White       393       4  881251863\n",
       "...         ...            ...       ...     ...        ...\n",
       "99998       941  Thomas Warren       919       5  875048887\n",
       "99999       941  Thomas Warren       273       3  875049038\n",
       "100000      941  Thomas Warren         1       5  875049144\n",
       "100001      941  Thomas Warren       294       4  875048532\n",
       "100002      941  Thomas Warren      1007       4  875049077\n",
       "\n",
       "[100003 rows x 5 columns]"
      ]
     },
     "execution_count": 19,
     "metadata": {},
     "output_type": "execute_result"
    }
   ],
   "source": [
    "col_names=['user_id','user_name','Movie_ID','rating','timestamp']\n",
    "movies_df=movie=pd.read_csv(\"Movie_data.csv\",sep=',',names=col_names)\n",
    "movies_df"
   ]
  },
  {
   "cell_type": "code",
   "execution_count": 26,
   "id": "dcec083a",
   "metadata": {},
   "outputs": [
    {
     "data": {
      "text/html": [
       "<div>\n",
       "<style scoped>\n",
       "    .dataframe tbody tr th:only-of-type {\n",
       "        vertical-align: middle;\n",
       "    }\n",
       "\n",
       "    .dataframe tbody tr th {\n",
       "        vertical-align: top;\n",
       "    }\n",
       "\n",
       "    .dataframe thead th {\n",
       "        text-align: right;\n",
       "    }\n",
       "</style>\n",
       "<table border=\"1\" class=\"dataframe\">\n",
       "  <thead>\n",
       "    <tr style=\"text-align: right;\">\n",
       "      <th></th>\n",
       "      <th>Movie_ID</th>\n",
       "      <th>Movie_Title</th>\n",
       "    </tr>\n",
       "  </thead>\n",
       "  <tbody>\n",
       "    <tr>\n",
       "      <th>0</th>\n",
       "      <td>1</td>\n",
       "      <td>Toy Story (1995)</td>\n",
       "    </tr>\n",
       "    <tr>\n",
       "      <th>1</th>\n",
       "      <td>2</td>\n",
       "      <td>GoldenEye (1995)</td>\n",
       "    </tr>\n",
       "    <tr>\n",
       "      <th>2</th>\n",
       "      <td>3</td>\n",
       "      <td>Four Rooms (1995)</td>\n",
       "    </tr>\n",
       "    <tr>\n",
       "      <th>3</th>\n",
       "      <td>4</td>\n",
       "      <td>Get Shorty (1995)</td>\n",
       "    </tr>\n",
       "    <tr>\n",
       "      <th>4</th>\n",
       "      <td>5</td>\n",
       "      <td>Copycat (1995)</td>\n",
       "    </tr>\n",
       "    <tr>\n",
       "      <th>...</th>\n",
       "      <td>...</td>\n",
       "      <td>...</td>\n",
       "    </tr>\n",
       "    <tr>\n",
       "      <th>1677</th>\n",
       "      <td>1678</td>\n",
       "      <td>Mat' i syn (1997)</td>\n",
       "    </tr>\n",
       "    <tr>\n",
       "      <th>1678</th>\n",
       "      <td>1679</td>\n",
       "      <td>B. Monkey (1998)</td>\n",
       "    </tr>\n",
       "    <tr>\n",
       "      <th>1679</th>\n",
       "      <td>1680</td>\n",
       "      <td>Sliding Doors (1998)</td>\n",
       "    </tr>\n",
       "    <tr>\n",
       "      <th>1680</th>\n",
       "      <td>1681</td>\n",
       "      <td>You So Crazy (1994)</td>\n",
       "    </tr>\n",
       "    <tr>\n",
       "      <th>1681</th>\n",
       "      <td>1682</td>\n",
       "      <td>Scream of Stone (Schrei aus Stein) (1991)</td>\n",
       "    </tr>\n",
       "  </tbody>\n",
       "</table>\n",
       "<p>1682 rows × 2 columns</p>\n",
       "</div>"
      ],
      "text/plain": [
       "      Movie_ID                                Movie_Title\n",
       "0            1                           Toy Story (1995)\n",
       "1            2                           GoldenEye (1995)\n",
       "2            3                          Four Rooms (1995)\n",
       "3            4                          Get Shorty (1995)\n",
       "4            5                             Copycat (1995)\n",
       "...        ...                                        ...\n",
       "1677      1678                          Mat' i syn (1997)\n",
       "1678      1679                           B. Monkey (1998)\n",
       "1679      1680                       Sliding Doors (1998)\n",
       "1680      1681                        You So Crazy (1994)\n",
       "1681      1682  Scream of Stone (Schrei aus Stein) (1991)\n",
       "\n",
       "[1682 rows x 2 columns]"
      ]
     },
     "execution_count": 26,
     "metadata": {},
     "output_type": "execute_result"
    }
   ],
   "source": [
    "movie_title_df=pd.read_csv(\"Movie_Id_Titles.csv\")\n",
    "movie_title_df.rename(columns={\"item_id\":'Movie_ID','title':'Movie_Title'},inplace=True)\n",
    "movie_title_df"
   ]
  },
  {
   "cell_type": "code",
   "execution_count": 29,
   "id": "6b635bcf",
   "metadata": {},
   "outputs": [
    {
     "data": {
      "text/html": [
       "<div>\n",
       "<style scoped>\n",
       "    .dataframe tbody tr th:only-of-type {\n",
       "        vertical-align: middle;\n",
       "    }\n",
       "\n",
       "    .dataframe tbody tr th {\n",
       "        vertical-align: top;\n",
       "    }\n",
       "\n",
       "    .dataframe thead th {\n",
       "        text-align: right;\n",
       "    }\n",
       "</style>\n",
       "<table border=\"1\" class=\"dataframe\">\n",
       "  <thead>\n",
       "    <tr style=\"text-align: right;\">\n",
       "      <th></th>\n",
       "      <th>user_id</th>\n",
       "      <th>user_name</th>\n",
       "      <th>Movie_ID</th>\n",
       "      <th>rating</th>\n",
       "      <th>timestamp</th>\n",
       "      <th>Movie_Title</th>\n",
       "    </tr>\n",
       "  </thead>\n",
       "  <tbody>\n",
       "    <tr>\n",
       "      <th>0</th>\n",
       "      <td>0</td>\n",
       "      <td>Shawn Wilson</td>\n",
       "      <td>50</td>\n",
       "      <td>5</td>\n",
       "      <td>881250949</td>\n",
       "      <td>Star Wars (1977)</td>\n",
       "    </tr>\n",
       "    <tr>\n",
       "      <th>1</th>\n",
       "      <td>22</td>\n",
       "      <td>Robert Poulin</td>\n",
       "      <td>50</td>\n",
       "      <td>5</td>\n",
       "      <td>878887765</td>\n",
       "      <td>Star Wars (1977)</td>\n",
       "    </tr>\n",
       "    <tr>\n",
       "      <th>2</th>\n",
       "      <td>244</td>\n",
       "      <td>Laura Krulik</td>\n",
       "      <td>50</td>\n",
       "      <td>5</td>\n",
       "      <td>880604379</td>\n",
       "      <td>Star Wars (1977)</td>\n",
       "    </tr>\n",
       "    <tr>\n",
       "      <th>3</th>\n",
       "      <td>298</td>\n",
       "      <td>Loren Aucoin</td>\n",
       "      <td>50</td>\n",
       "      <td>5</td>\n",
       "      <td>884125578</td>\n",
       "      <td>Star Wars (1977)</td>\n",
       "    </tr>\n",
       "    <tr>\n",
       "      <th>4</th>\n",
       "      <td>115</td>\n",
       "      <td>Dominick Jenkins</td>\n",
       "      <td>50</td>\n",
       "      <td>5</td>\n",
       "      <td>881172049</td>\n",
       "      <td>Star Wars (1977)</td>\n",
       "    </tr>\n",
       "  </tbody>\n",
       "</table>\n",
       "</div>"
      ],
      "text/plain": [
       "   user_id         user_name  Movie_ID  rating  timestamp       Movie_Title\n",
       "0        0      Shawn Wilson        50       5  881250949  Star Wars (1977)\n",
       "1       22     Robert Poulin        50       5  878887765  Star Wars (1977)\n",
       "2      244      Laura Krulik        50       5  880604379  Star Wars (1977)\n",
       "3      298      Loren Aucoin        50       5  884125578  Star Wars (1977)\n",
       "4      115  Dominick Jenkins        50       5  881172049  Star Wars (1977)"
      ]
     },
     "execution_count": 29,
     "metadata": {},
     "output_type": "execute_result"
    }
   ],
   "source": [
    "Merged_df=pd.merge(movies_df,movie_title_df,on='Movie_ID')\n",
    "Merged_df.head(5)"
   ]
  },
  {
   "cell_type": "code",
   "execution_count": 32,
   "id": "81c12e2d",
   "metadata": {},
   "outputs": [
    {
     "data": {
      "text/plain": [
       "(100003, 6)"
      ]
     },
     "execution_count": 32,
     "metadata": {},
     "output_type": "execute_result"
    }
   ],
   "source": [
    "np.shape(Merged_df)"
   ]
  },
  {
   "cell_type": "code",
   "execution_count": 33,
   "id": "81d3a346",
   "metadata": {},
   "outputs": [
    {
     "data": {
      "text/html": [
       "<div>\n",
       "<style scoped>\n",
       "    .dataframe tbody tr th:only-of-type {\n",
       "        vertical-align: middle;\n",
       "    }\n",
       "\n",
       "    .dataframe tbody tr th {\n",
       "        vertical-align: top;\n",
       "    }\n",
       "\n",
       "    .dataframe thead th {\n",
       "        text-align: right;\n",
       "    }\n",
       "</style>\n",
       "<table border=\"1\" class=\"dataframe\">\n",
       "  <thead>\n",
       "    <tr style=\"text-align: right;\">\n",
       "      <th></th>\n",
       "      <th>user_id</th>\n",
       "      <th>Movie_ID</th>\n",
       "      <th>rating</th>\n",
       "      <th>timestamp</th>\n",
       "    </tr>\n",
       "  </thead>\n",
       "  <tbody>\n",
       "    <tr>\n",
       "      <th>count</th>\n",
       "      <td>100003.000000</td>\n",
       "      <td>100003.000000</td>\n",
       "      <td>100003.000000</td>\n",
       "      <td>1.000030e+05</td>\n",
       "    </tr>\n",
       "    <tr>\n",
       "      <th>mean</th>\n",
       "      <td>462.470876</td>\n",
       "      <td>425.520914</td>\n",
       "      <td>3.529864</td>\n",
       "      <td>8.835288e+08</td>\n",
       "    </tr>\n",
       "    <tr>\n",
       "      <th>std</th>\n",
       "      <td>266.622454</td>\n",
       "      <td>330.797791</td>\n",
       "      <td>1.125704</td>\n",
       "      <td>5.343791e+06</td>\n",
       "    </tr>\n",
       "    <tr>\n",
       "      <th>min</th>\n",
       "      <td>0.000000</td>\n",
       "      <td>1.000000</td>\n",
       "      <td>1.000000</td>\n",
       "      <td>8.747247e+08</td>\n",
       "    </tr>\n",
       "    <tr>\n",
       "      <th>25%</th>\n",
       "      <td>254.000000</td>\n",
       "      <td>175.000000</td>\n",
       "      <td>3.000000</td>\n",
       "      <td>8.794487e+08</td>\n",
       "    </tr>\n",
       "    <tr>\n",
       "      <th>50%</th>\n",
       "      <td>447.000000</td>\n",
       "      <td>322.000000</td>\n",
       "      <td>4.000000</td>\n",
       "      <td>8.828269e+08</td>\n",
       "    </tr>\n",
       "    <tr>\n",
       "      <th>75%</th>\n",
       "      <td>682.000000</td>\n",
       "      <td>631.000000</td>\n",
       "      <td>4.000000</td>\n",
       "      <td>8.882600e+08</td>\n",
       "    </tr>\n",
       "    <tr>\n",
       "      <th>max</th>\n",
       "      <td>943.000000</td>\n",
       "      <td>1682.000000</td>\n",
       "      <td>5.000000</td>\n",
       "      <td>8.932866e+08</td>\n",
       "    </tr>\n",
       "  </tbody>\n",
       "</table>\n",
       "</div>"
      ],
      "text/plain": [
       "             user_id       Movie_ID         rating     timestamp\n",
       "count  100003.000000  100003.000000  100003.000000  1.000030e+05\n",
       "mean      462.470876     425.520914       3.529864  8.835288e+08\n",
       "std       266.622454     330.797791       1.125704  5.343791e+06\n",
       "min         0.000000       1.000000       1.000000  8.747247e+08\n",
       "25%       254.000000     175.000000       3.000000  8.794487e+08\n",
       "50%       447.000000     322.000000       4.000000  8.828269e+08\n",
       "75%       682.000000     631.000000       4.000000  8.882600e+08\n",
       "max       943.000000    1682.000000       5.000000  8.932866e+08"
      ]
     },
     "execution_count": 33,
     "metadata": {},
     "output_type": "execute_result"
    }
   ],
   "source": [
    "Merged_df.describe()"
   ]
  },
  {
   "cell_type": "code",
   "execution_count": 35,
   "id": "691d7450",
   "metadata": {},
   "outputs": [
    {
     "data": {
      "text/plain": [
       "user_id\n",
       "0       3\n",
       "166    20\n",
       "418    20\n",
       "34     20\n",
       "441    20\n",
       "Name: rating, dtype: int64"
      ]
     },
     "execution_count": 35,
     "metadata": {},
     "output_type": "execute_result"
    }
   ],
   "source": [
    "#min rating per user in ascending order\n",
    "Merged_df.groupby('user_id')['rating'].count().sort_values(ascending=True).head()"
   ]
  },
  {
   "cell_type": "code",
   "execution_count": 40,
   "id": "eb19ab86",
   "metadata": {},
   "outputs": [
    {
     "name": "stdout",
     "output_type": "stream",
     "text": [
      "Total Users:944\n",
      "Total Movies:1682\n"
     ]
    }
   ],
   "source": [
    "num_users=Merged_df.user_id.unique().shape[0]\n",
    "num_movies=Merged_df.Movie_ID.unique().shape[0]\n",
    "print('Total Users:'+str(num_users))\n",
    "print('Total Movies:'+str(num_movies))"
   ]
  },
  {
   "cell_type": "markdown",
   "id": "63d71396",
   "metadata": {},
   "source": [
    "## Task 4: Create an Interaction Matrix"
   ]
  },
  {
   "cell_type": "code",
   "execution_count": 48,
   "id": "8d5161f2",
   "metadata": {},
   "outputs": [
    {
     "name": "stdout",
     "output_type": "stream",
     "text": [
      "[[0. 0. 0. ... 0. 0. 0.]\n",
      " [5. 3. 4. ... 0. 0. 0.]\n",
      " [4. 0. 0. ... 0. 0. 0.]\n",
      " ...\n",
      " [5. 0. 0. ... 0. 0. 0.]\n",
      " [0. 0. 0. ... 0. 0. 0.]\n",
      " [0. 5. 0. ... 0. 0. 0.]]\n"
     ]
    }
   ],
   "source": [
    "ratings=np.zeros((num_users,num_movies))\n",
    "for row in Merged_df.itertuples():\n",
    "    ratings[row[1],row[3]-1]=row[4]\n",
    "print(ratings)    "
   ]
  },
  {
   "cell_type": "markdown",
   "id": "e2e125ce",
   "metadata": {},
   "source": [
    "## Task 5: Explore the Interaction Matrix"
   ]
  },
  {
   "cell_type": "code",
   "execution_count": null,
   "id": "79ccdaa3",
   "metadata": {},
   "outputs": [],
   "source": []
  },
  {
   "cell_type": "code",
   "execution_count": 69,
   "id": "9de7820c",
   "metadata": {},
   "outputs": [
    {
     "name": "stdout",
     "output_type": "stream",
     "text": [
      "6.298179628771237\n"
     ]
    }
   ],
   "source": [
    "sparsity = float(len(ratings.nonzero()[0]))\n",
    "sparsity /= (ratings.shape[0] * ratings.shape[1])\n",
    "sparsity *= 100\n",
    "\n",
    "print(sparsity)"
   ]
  },
  {
   "cell_type": "markdown",
   "id": "177b3424",
   "metadata": {},
   "source": [
    "## Task 6 : Create a Similarity Matrix"
   ]
  },
  {
   "cell_type": "code",
   "execution_count": 71,
   "id": "8a0eac12",
   "metadata": {},
   "outputs": [
    {
     "name": "stdout",
     "output_type": "stream",
     "text": [
      "[[1.         0.11988816 0.11554032 ... 0.         0.18180857 0.11890394]\n",
      " [0.11988816 1.         0.16693098 ... 0.14861694 0.17950788 0.39817474]\n",
      " [0.11554032 0.16693098 1.         ... 0.16148478 0.17226781 0.10579788]\n",
      " ...\n",
      " [0.         0.14861694 0.16148478 ... 1.         0.1016418  0.09511958]\n",
      " [0.18180857 0.17950788 0.17226781 ... 0.1016418  1.         0.18246466]\n",
      " [0.11890394 0.39817474 0.10579788 ... 0.09511958 0.18246466 1.        ]]\n"
     ]
    }
   ],
   "source": [
    "rating_similarity=cosine_similarity(ratings)\n",
    "print(rating_similarity)"
   ]
  },
  {
   "cell_type": "markdown",
   "id": "9c6b9d12",
   "metadata": {},
   "source": [
    "## Task 7: Provide Recommendations"
   ]
  },
  {
   "cell_type": "code",
   "execution_count": 80,
   "id": "5313790a",
   "metadata": {},
   "outputs": [],
   "source": [
    "def recommended(user_item_m,X_user,user,k=10,top_n=10):\n",
    "    user_similarity=X_user[user]\n",
    "    most_similar_users = user_item_m.index[user_similarity.argpartition(-k)[-k:]]\n",
    "    rec_movies=user_item_m.loc[most_similar_users].mean(0).sort_values(ascending=False)\n",
    "    m_seen_movies=user_item_m.loc[user].gt(0)\n",
    "    seen_movies = m_seen_movies.index[m_seen_movies].tolist()\n",
    "    rec_movies = rec_movies.drop(seen_movies).head(top_n)\n",
    "    rec_movies_a=rec_movies.index.to_frame().reset_index(drop=True)\n",
    "    rec_movies_a.rename(columns={rec_movies_a.columns[0]: 'Movie_ID'}, inplace=True)\n",
    "    return rec_movies_a"
   ]
  },
  {
   "cell_type": "markdown",
   "id": "545d69a8",
   "metadata": {},
   "source": [
    "## Task 8: View the Provided Recommendations "
   ]
  },
  {
   "cell_type": "code",
   "execution_count": 81,
   "id": "3e1b7cf5",
   "metadata": {},
   "outputs": [],
   "source": [
    "ratings_df=pd.DataFrame(ratings)\n"
   ]
  },
  {
   "cell_type": "code",
   "execution_count": 82,
   "id": "ee1b66d6",
   "metadata": {},
   "outputs": [
    {
     "data": {
      "text/html": [
       "<div>\n",
       "<style scoped>\n",
       "    .dataframe tbody tr th:only-of-type {\n",
       "        vertical-align: middle;\n",
       "    }\n",
       "\n",
       "    .dataframe tbody tr th {\n",
       "        vertical-align: top;\n",
       "    }\n",
       "\n",
       "    .dataframe thead th {\n",
       "        text-align: right;\n",
       "    }\n",
       "</style>\n",
       "<table border=\"1\" class=\"dataframe\">\n",
       "  <thead>\n",
       "    <tr style=\"text-align: right;\">\n",
       "      <th></th>\n",
       "      <th>Movie_ID</th>\n",
       "    </tr>\n",
       "  </thead>\n",
       "  <tbody>\n",
       "    <tr>\n",
       "      <th>0</th>\n",
       "      <td>180</td>\n",
       "    </tr>\n",
       "    <tr>\n",
       "      <th>1</th>\n",
       "      <td>209</td>\n",
       "    </tr>\n",
       "    <tr>\n",
       "      <th>2</th>\n",
       "      <td>495</td>\n",
       "    </tr>\n",
       "    <tr>\n",
       "      <th>3</th>\n",
       "      <td>422</td>\n",
       "    </tr>\n",
       "    <tr>\n",
       "      <th>4</th>\n",
       "      <td>172</td>\n",
       "    </tr>\n",
       "    <tr>\n",
       "      <th>5</th>\n",
       "      <td>384</td>\n",
       "    </tr>\n",
       "    <tr>\n",
       "      <th>6</th>\n",
       "      <td>78</td>\n",
       "    </tr>\n",
       "    <tr>\n",
       "      <th>7</th>\n",
       "      <td>567</td>\n",
       "    </tr>\n",
       "    <tr>\n",
       "      <th>8</th>\n",
       "      <td>565</td>\n",
       "    </tr>\n",
       "    <tr>\n",
       "      <th>9</th>\n",
       "      <td>21</td>\n",
       "    </tr>\n",
       "  </tbody>\n",
       "</table>\n",
       "</div>"
      ],
      "text/plain": [
       "   Movie_ID\n",
       "0       180\n",
       "1       209\n",
       "2       495\n",
       "3       422\n",
       "4       172\n",
       "5       384\n",
       "6        78\n",
       "7       567\n",
       "8       565\n",
       "9        21"
      ]
     },
     "execution_count": 82,
     "metadata": {},
     "output_type": "execute_result"
    }
   ],
   "source": [
    "recommended(ratings_df,rating_similarity,user_id)"
   ]
  },
  {
   "cell_type": "markdown",
   "id": "ab7a7ac8",
   "metadata": {},
   "source": [
    "## Task 9: Create Wrapper Function"
   ]
  },
  {
   "cell_type": "code",
   "execution_count": 83,
   "id": "29865730",
   "metadata": {},
   "outputs": [],
   "source": [
    "def movie_recommender_run(u_name):\n",
    "    user_id=Mergerd_df.loc[Merged_df['user_name']==u_name].user_id.values[0]\n",
    "    tmp=recommended(rating_df,rating_similarity,user_id)"
   ]
  },
  {
   "cell_type": "code",
   "execution_count": null,
   "id": "29c5cfc1",
   "metadata": {},
   "outputs": [],
   "source": []
  }
 ],
 "metadata": {
  "kernelspec": {
   "display_name": "Python 3 (ipykernel)",
   "language": "python",
   "name": "python3"
  },
  "language_info": {
   "codemirror_mode": {
    "name": "ipython",
    "version": 3
   },
   "file_extension": ".py",
   "mimetype": "text/x-python",
   "name": "python",
   "nbconvert_exporter": "python",
   "pygments_lexer": "ipython3",
   "version": "3.8.10"
  }
 },
 "nbformat": 4,
 "nbformat_minor": 5
}
